{
 "cells": [
  {
   "cell_type": "code",
   "execution_count": 1,
   "metadata": {},
   "outputs": [],
   "source": [
    "import pandas as pd\n",
    "import numpy as np\n",
    "import sys\n",
    "import guppy\n",
    "from guppy import hpy\n",
    "import time\n",
    "import matplotlib.pyplot as plt"
   ]
  },
  {
   "cell_type": "code",
   "execution_count": 2,
   "metadata": {},
   "outputs": [],
   "source": [
    "memory_plot = {'filename':['input1.txt', 'input2.txt', 'input3.txt', 'input4.txt', 'input5.txt', 'input6.txt'], \n",
    "         'Size': [128, 96, 2048, 1280, 1536, 512], \n",
    "         'Basic': [157.822, 79.034, 38667.128000000004, 9691.866, 19349.236, 2417.422], \n",
    "         'Efficient': [0.386, 0.358, 2.656, 2.2760000000000002, 2.298, 0.85]}\n",
    "\n",
    "time_plot = {'filename':['input1.txt', 'input2.txt', 'input3.txt', 'input4.txt', 'input5.txt', 'input6.txt'], \n",
    "         'Size': [128, 96, 2048, 1280, 1536, 512], \n",
    "         'Basic': [0.002511739730834961, 0.0012788772583007812, 0.6423680782318115, 0.1524660587310791, 0.31272292137145996, 0.03702878952026367], \n",
    "            'Efficient': [0.0056879520416259766, 0.002961874008178711, 1.3547329902648926, 0.33232617378234863, 0.6549959182739258, 0.08229994773864746]}\n",
    "\n"
   ]
  },
  {
   "cell_type": "code",
   "execution_count": null,
   "metadata": {},
   "outputs": [],
   "source": []
  },
  {
   "cell_type": "markdown",
   "metadata": {},
   "source": [
    "### I. Memory"
   ]
  },
  {
   "cell_type": "code",
   "execution_count": 3,
   "metadata": {},
   "outputs": [
    {
     "data": {
      "text/html": [
       "<div>\n",
       "<style scoped>\n",
       "    .dataframe tbody tr th:only-of-type {\n",
       "        vertical-align: middle;\n",
       "    }\n",
       "\n",
       "    .dataframe tbody tr th {\n",
       "        vertical-align: top;\n",
       "    }\n",
       "\n",
       "    .dataframe thead th {\n",
       "        text-align: right;\n",
       "    }\n",
       "</style>\n",
       "<table border=\"1\" class=\"dataframe\">\n",
       "  <thead>\n",
       "    <tr style=\"text-align: right;\">\n",
       "      <th></th>\n",
       "      <th>filename</th>\n",
       "      <th>Size</th>\n",
       "      <th>Basic</th>\n",
       "      <th>Efficient</th>\n",
       "    </tr>\n",
       "  </thead>\n",
       "  <tbody>\n",
       "    <tr>\n",
       "      <th>1</th>\n",
       "      <td>input2.txt</td>\n",
       "      <td>96</td>\n",
       "      <td>79.034</td>\n",
       "      <td>0.358</td>\n",
       "    </tr>\n",
       "    <tr>\n",
       "      <th>0</th>\n",
       "      <td>input1.txt</td>\n",
       "      <td>128</td>\n",
       "      <td>157.822</td>\n",
       "      <td>0.386</td>\n",
       "    </tr>\n",
       "    <tr>\n",
       "      <th>5</th>\n",
       "      <td>input6.txt</td>\n",
       "      <td>512</td>\n",
       "      <td>2417.422</td>\n",
       "      <td>0.850</td>\n",
       "    </tr>\n",
       "    <tr>\n",
       "      <th>3</th>\n",
       "      <td>input4.txt</td>\n",
       "      <td>1280</td>\n",
       "      <td>9691.866</td>\n",
       "      <td>2.276</td>\n",
       "    </tr>\n",
       "    <tr>\n",
       "      <th>4</th>\n",
       "      <td>input5.txt</td>\n",
       "      <td>1536</td>\n",
       "      <td>19349.236</td>\n",
       "      <td>2.298</td>\n",
       "    </tr>\n",
       "    <tr>\n",
       "      <th>2</th>\n",
       "      <td>input3.txt</td>\n",
       "      <td>2048</td>\n",
       "      <td>38667.128</td>\n",
       "      <td>2.656</td>\n",
       "    </tr>\n",
       "  </tbody>\n",
       "</table>\n",
       "</div>"
      ],
      "text/plain": [
       "     filename  Size      Basic  Efficient\n",
       "1  input2.txt    96     79.034      0.358\n",
       "0  input1.txt   128    157.822      0.386\n",
       "5  input6.txt   512   2417.422      0.850\n",
       "3  input4.txt  1280   9691.866      2.276\n",
       "4  input5.txt  1536  19349.236      2.298\n",
       "2  input3.txt  2048  38667.128      2.656"
      ]
     },
     "execution_count": 3,
     "metadata": {},
     "output_type": "execute_result"
    }
   ],
   "source": [
    "# Memory DF\n",
    "memory_plot_df = pd.DataFrame(memory_plot)\n",
    "memory_plot_df = memory_plot_df.sort_values('Size')\n",
    "memory_plot_df"
   ]
  },
  {
   "cell_type": "code",
   "execution_count": 4,
   "metadata": {},
   "outputs": [
    {
     "data": {
      "image/png": "[encoded data removed]",
      "text/plain": [
       "<Figure size 432x288 with 1 Axes>"
      ]
     },
     "metadata": {
      "needs_background": "light"
     },
     "output_type": "display_data"
    }
   ],
   "source": [
    "# Memory Usage Plot\n",
    "\n",
    "plt.plot(memory_plot_df['Size'], memory_plot_df['Basic'], marker=\"s\", label='Basic Version')\n",
    "plt.plot(memory_plot_df['Size'],memory_plot_df['Efficient'], marker=\"o\", label='Efficient Version')\n",
    "plt.legend(loc='upper left');\n",
    "plt.title('Memory Usage vs. Problem Size')\n",
    "plt.xlabel('Problem Size (m + n)')\n",
    "plt.ylabel('\\nMemory Usage (kilobytes)')\n",
    "plt.subplots_adjust(left=0.15, bottom=0.15)\n",
    "plt.savefig('MemoryPlot.jpg')\n",
    "plt.show()"
   ]
  },
  {
   "cell_type": "code",
   "execution_count": null,
   "metadata": {},
   "outputs": [],
   "source": []
  },
  {
   "cell_type": "markdown",
   "metadata": {},
   "source": [
    "### II. CPU Time"
   ]
  },
  {
   "cell_type": "code",
   "execution_count": 5,
   "metadata": {},
   "outputs": [
    {
     "data": {
      "text/html": [
       "<div>\n",
       "<style scoped>\n",
       "    .dataframe tbody tr th:only-of-type {\n",
       "        vertical-align: middle;\n",
       "    }\n",
       "\n",
       "    .dataframe tbody tr th {\n",
       "        vertical-align: top;\n",
       "    }\n",
       "\n",
       "    .dataframe thead th {\n",
       "        text-align: right;\n",
       "    }\n",
       "</style>\n",
       "<table border=\"1\" class=\"dataframe\">\n",
       "  <thead>\n",
       "    <tr style=\"text-align: right;\">\n",
       "      <th></th>\n",
       "      <th>filename</th>\n",
       "      <th>Size</th>\n",
       "      <th>Basic</th>\n",
       "      <th>Efficient</th>\n",
       "    </tr>\n",
       "  </thead>\n",
       "  <tbody>\n",
       "    <tr>\n",
       "      <th>1</th>\n",
       "      <td>input2.txt</td>\n",
       "      <td>96</td>\n",
       "      <td>0.001279</td>\n",
       "      <td>0.002962</td>\n",
       "    </tr>\n",
       "    <tr>\n",
       "      <th>0</th>\n",
       "      <td>input1.txt</td>\n",
       "      <td>128</td>\n",
       "      <td>0.002512</td>\n",
       "      <td>0.005688</td>\n",
       "    </tr>\n",
       "    <tr>\n",
       "      <th>5</th>\n",
       "      <td>input6.txt</td>\n",
       "      <td>512</td>\n",
       "      <td>0.037029</td>\n",
       "      <td>0.082300</td>\n",
       "    </tr>\n",
       "    <tr>\n",
       "      <th>3</th>\n",
       "      <td>input4.txt</td>\n",
       "      <td>1280</td>\n",
       "      <td>0.152466</td>\n",
       "      <td>0.332326</td>\n",
       "    </tr>\n",
       "    <tr>\n",
       "      <th>4</th>\n",
       "      <td>input5.txt</td>\n",
       "      <td>1536</td>\n",
       "      <td>0.312723</td>\n",
       "      <td>0.654996</td>\n",
       "    </tr>\n",
       "    <tr>\n",
       "      <th>2</th>\n",
       "      <td>input3.txt</td>\n",
       "      <td>2048</td>\n",
       "      <td>0.642368</td>\n",
       "      <td>1.354733</td>\n",
       "    </tr>\n",
       "  </tbody>\n",
       "</table>\n",
       "</div>"
      ],
      "text/plain": [
       "     filename  Size     Basic  Efficient\n",
       "1  input2.txt    96  0.001279   0.002962\n",
       "0  input1.txt   128  0.002512   0.005688\n",
       "5  input6.txt   512  0.037029   0.082300\n",
       "3  input4.txt  1280  0.152466   0.332326\n",
       "4  input5.txt  1536  0.312723   0.654996\n",
       "2  input3.txt  2048  0.642368   1.354733"
      ]
     },
     "execution_count": 5,
     "metadata": {},
     "output_type": "execute_result"
    }
   ],
   "source": [
    "# Time DF\n",
    "time_plot_df = pd.DataFrame(time_plot)\n",
    "time_plot_df = time_plot_df.sort_values('Size')\n",
    "time_plot_df"
   ]
  },
  {
   "cell_type": "code",
   "execution_count": 6,
   "metadata": {},
   "outputs": [
    {
     "data": {
      "image/png": "[encoded data removed]",
      "text/plain": [
       "<Figure size 432x288 with 1 Axes>"
      ]
     },
     "metadata": {
      "needs_background": "light"
     },
     "output_type": "display_data"
    }
   ],
   "source": [
    "# CPU Time Plot\n",
    "\n",
    "plt.plot(time_plot_df['Size'], time_plot_df['Basic'], marker=\"s\", label='Basic Version')\n",
    "plt.plot(time_plot_df['Size'],time_plot_df['Efficient'], marker=\"o\", label='Efficient Version')\n",
    "plt.legend(loc='upper left');\n",
    "plt.title('CPU Time vs. Problem Size')\n",
    "plt.xlabel('Problem Size (m + n)')\n",
    "plt.ylabel('\\nCPU Time (seconds)')\n",
    "plt.subplots_adjust(left=0.15, bottom=0.15)\n",
    "plt.savefig('CPUPlot.jpg')\n",
    "plt.show()"
   ]
  },
  {
   "cell_type": "code",
   "execution_count": null,
   "metadata": {},
   "outputs": [],
   "source": []
  },
  {
   "cell_type": "code",
   "execution_count": null,
   "metadata": {},
   "outputs": [],
   "source": []
  }
 ],
 "metadata": {
  "kernelspec": {
   "display_name": "Python 3",
   "language": "python",
   "name": "python3"
  },
  "language_info": {
   "codemirror_mode": {
    "name": "ipython",
    "version": 3
   },
   "file_extension": ".py",
   "mimetype": "text/x-python",
   "name": "python",
   "nbconvert_exporter": "python",
   "pygments_lexer": "ipython3",
   "version": "3.8.5"
  }
 },
 "nbformat": 4,
 "nbformat_minor": 4
}
