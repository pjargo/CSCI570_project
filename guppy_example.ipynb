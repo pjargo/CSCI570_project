{
 "cells": [
  {
   "cell_type": "code",
   "execution_count": 2,
   "metadata": {},
   "outputs": [],
   "source": [
    "import guppy\n",
    "from guppy import hpy\n",
    "import numpy as np"
   ]
  },
  {
   "cell_type": "code",
   "execution_count": null,
   "metadata": {},
   "outputs": [],
   "source": [
    "# https://coderzcolumn.com/tutorials/python/guppy-heapy-profile-memory-usage-in-python"
   ]
  },
  {
   "cell_type": "code",
   "execution_count": 3,
   "metadata": {},
   "outputs": [
    {
     "name": "stdout",
     "output_type": "stream",
     "text": [
      "Heap Status At Starting : \n",
      "Heap Size :  34457360  bytes\n",
      "\n",
      "Partition of a set of 269572 objects. Total size = 34458105 bytes.\n",
      " Index  Count   %     Size   % Cumulative  % Kind (class / dict of class)\n",
      "     0  84994  32 10569455  31  10569455  31 str\n",
      "     1  64351  24  4584664  13  15154119  44 tuple\n",
      "     2  18313   7  3247069   9  18401188  53 types.CodeType\n",
      "     3  36354  13  2724874   8  21126062  61 bytes\n",
      "     4  16414   6  2232304   6  23358366  68 function\n",
      "     5   2230   1  2163688   6  25522054  74 type\n",
      "     6   5608   2  1987552   6  27509606  80 dict (no owner)\n",
      "     7    888   0  1324920   4  28834526  84 dict of module\n",
      "     8   2230   1  1074440   3  29908966  87 dict of type\n",
      "     9    401   0   425560   1  30334526  88 set\n",
      "<839 more rows. Type e.g. '_.more' to view.>\n",
      "\n",
      "Heap Status After Setting Reference Point : \n",
      "Heap Size :  3581  bytes\n",
      "\n",
      "Partition of a set of 34 objects. Total size = 3581 bytes.\n",
      " Index  Count   %     Size   % Cumulative  % Kind (class / dict of class)\n",
      "     0      3   9     1360  38      1360  38 types.FrameType\n",
      "     1      2   6      272   8      1632  46 function\n",
      "     2      4  12      256   7      1888  53 types.MethodType\n",
      "     3      5  15      248   7      2136  60 tuple\n",
      "     4      1   3      176   5      2312  65 types.CodeType\n",
      "     5      2   6      160   4      2472  69 functools.partial\n",
      "     6      1   3      136   4      2608  73 _io.StringIO\n",
      "     7      2   6      128   4      2736  76 builtins.Context\n",
      "     8      2   6      128   4      2864  80 dict (no owner)\n",
      "     9      2   6      120   3      2984  83 list\n",
      "<9 more rows. Type e.g. '_.more' to view.>\n",
      "\n",
      "Heap Status After Creating Few Objects : \n",
      "Heap Size :  41497  bytes\n",
      "\n",
      "Partition of a set of 779 objects. Total size = 41497 bytes.\n",
      " Index  Count   %     Size   % Cumulative  % Kind (class / dict of class)\n",
      "     0    745  96    20860  50     20860  50 int\n",
      "     1      3   0     9136  22     29996  72 list\n",
      "     2      1   0     8096  20     38092  92 numpy.ndarray\n",
      "     3      3   0     1360   3     39452  95 types.FrameType\n",
      "     4      2   0      272   1     39724  96 function\n",
      "     5      4   1      256   1     39980  96 types.MethodType\n",
      "     6      5   1      248   1     40228  97 tuple\n",
      "     7      1   0      176   0     40404  97 types.CodeType\n",
      "     8      2   0      160   0     40564  98 functools.partial\n",
      "     9      1   0      136   0     40700  98 _io.StringIO\n",
      "<10 more rows. Type e.g. '_.more' to view.>\n",
      "\n",
      "Memory Usage After Creation Of Objects :  37916  bytes\n"
     ]
    }
   ],
   "source": [
    "heap = hpy()\n",
    "\n",
    "print(\"Heap Status At Starting : \")\n",
    "heap_status1 = heap.heap()\n",
    "print(\"Heap Size : \", heap_status1.size, \" bytes\\n\")\n",
    "print(heap_status1)\n",
    "\n",
    "\n",
    "heap.setref()\n",
    "\n",
    "print(\"\\nHeap Status After Setting Reference Point : \")\n",
    "heap_status2 = heap.heap()\n",
    "print(\"Heap Size : \", heap_status2.size, \" bytes\\n\")\n",
    "print(heap_status2)\n",
    "\n",
    "a = [i for i in range(1000)]\n",
    "b = \"A\"\n",
    "c = np.random.randint(1,100, (1000,))\n",
    "\n",
    "print(\"\\nHeap Status After Creating Few Objects : \")\n",
    "heap_status3 = heap.heap()\n",
    "print(\"Heap Size : \", heap_status3.size, \" bytes\\n\")\n",
    "print(heap_status3)\n",
    "\n",
    "print(\"\\nMemory Usage After Creation Of Objects : \", heap_status3.size - heap_status2.size, \" bytes\")"
   ]
  },
  {
   "cell_type": "code",
   "execution_count": null,
   "metadata": {},
   "outputs": [],
   "source": []
  },
  {
   "cell_type": "code",
   "execution_count": null,
   "metadata": {},
   "outputs": [],
   "source": []
  }
 ],
 "metadata": {
  "kernelspec": {
   "display_name": "Python 3",
   "language": "python",
   "name": "python3"
  },
  "language_info": {
   "codemirror_mode": {
    "name": "ipython",
    "version": 3
   },
   "file_extension": ".py",
   "mimetype": "text/x-python",
   "name": "python",
   "nbconvert_exporter": "python",
   "pygments_lexer": "ipython3",
   "version": "3.8.5"
  }
 },
 "nbformat": 4,
 "nbformat_minor": 4
}
